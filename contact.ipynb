{
  "cells": [
    {
      "cell_type": "raw",
      "metadata": {},
      "source": [
        "---\n",
        "title: \"Contacts\"\n",
        "format: html\n",
        "---"
      ],
      "id": "60e66a43"
    },
    {
      "cell_type": "markdown",
      "metadata": {},
      "source": [
        "Bobby Oliver, GISP\n",
        "\n",
        "Email: bobby.j.oliver\\@usace.army.mil\n",
        "\n",
        "![](images/magnifying-glass.jpg){fig-align=\"center\" width=\"1in\"}\n",
        "\n",
        "\n",
        "\n",
        "\n",
        "```{html}\n",
        "\n",
        " <iframe id=\"JotFormIFrame-252173064953155\" \n",
        "title=\"Contact 2\" \n",
        "onload=\"window.parent.scrollTo(0,0)\" \n",
        "allowtransparency=\"true\" \n",
        "allow=\"geolocation; microphone; camera; fullscreen; payment\" \n",
        "src=\"https://form.jotform.com/252173064953155\" \n",
        "frameborder=\"0\" \n",
        "style=\"min-width:100%;max-width:100%;height:539px;border:none;\" \n",
        "scrolling=\"no\" > \n",
        "</iframe> \n",
        "  \n",
        "<script src='https://cdn.jotfor.ms/s/umd/latest/for-form-embed-handler.js'></script> <script>window.jotformEmbedHandler(\"iframe[id='JotFormIFrame-252173064953155']\", \"https://form.jotform.com/\")</script> \n",
        "\n",
        "```"
      ],
      "id": "3ac5e889"
    }
  ],
  "metadata": {
    "kernelspec": {
      "display_name": "Python 3",
      "language": "python",
      "name": "python3"
    }
  },
  "nbformat": 4,
  "nbformat_minor": 5
}